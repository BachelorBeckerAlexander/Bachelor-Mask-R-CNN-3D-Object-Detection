{
 "cells": [
  {
   "cell_type": "code",
   "execution_count": 1,
   "id": "0c5c4035",
   "metadata": {},
   "outputs": [],
   "source": [
    "import cv2, os\n",
    "import numpy as np\n",
    "import nibabel as nib"
   ]
  },
  {
   "cell_type": "code",
   "execution_count": null,
   "id": "c1cd8d8b",
   "metadata": {},
   "outputs": [],
   "source": [
    "for img_name in os.listdir(\"test_images/pred_jpgs_new1/\"):\n",
    "    img_path = os.path.join(\"test_images/pred_jpgs_new1/\", img_name)\n",
    "    \n",
    "    temp = os.path.splitext(img_name)[0]\n",
    "    \n",
    "    img_gray = cv2.imread(img_path, 0)\n",
    "    img_rgb = cv2.imread(img_path)\n",
    "    \n",
    "    img_gray_thresh = img_gray.copy()\n",
    "    \n",
    "    #thresholding to generate mask\n",
    "    for row in range(img_gray.shape[0]):\n",
    "        for col in range(img_gray.shape[1]):\n",
    "            if img_gray[row][col] > 190:\n",
    "                img_gray_thresh[row][col] = 0\n",
    "            else:\n",
    "                img_gray_thresh[row][col] = 255\n",
    "                \n",
    "    cv2.imwrite(\"test_images/img_gray_thresh_new2/%s.png\", img_gray_thresh)\n",
    "    \n",
    "    #median filter\n",
    "    img_med = cv2.medianBlur(img_gray_thresh, 15, 0  )\n",
    "    cv2.imwrite(\"test_images/img_med_new2/%s.png\"%temp, img_med)\n",
    "    \n",
    "    #overlaying generatared mask\n",
    "    final_img = cv2.bitwise_and(img_rgb, img_rgb, mask=img_med)\n",
    "    cv2.imwrite(\"test_images/final_rgb_new2/%s.png\"%temp, final_img)\n",
    "    "
   ]
  },
  {
   "cell_type": "code",
   "execution_count": null,
   "id": "41cf282f",
   "metadata": {},
   "outputs": [],
   "source": [
    "#################################################"
   ]
  },
  {
   "cell_type": "code",
   "execution_count": null,
   "id": "3a76cc18",
   "metadata": {},
   "outputs": [],
   "source": [
    "#convreting rgb_images predictions to rgb_3D Stack\n",
    "#gray_images 3D Stack -> tifffile library, extensions .tif\n",
    "                     # -> grayimage\n",
    "    \n",
    "#rgb_imges to 3D Stack - >nibabel library, extension .nii\n",
    "                    # -> rgb images"
   ]
  },
  {
   "cell_type": "code",
   "execution_count": 3,
   "id": "3469b3f3",
   "metadata": {},
   "outputs": [],
   "source": [
    "#sort the images from 0 to n in the correct order\n",
    "img_list = []\n",
    "path_in = 'test_images/final_rgb_new1/'\n",
    "for i in range(500):\n",
    "    \n",
    "    img_file = cv2.imread(path_in+\"%s.png\"%i)\n",
    "    \n",
    "    img_list.append(img_file)\n",
    "\n",
    "img_np = np.array(img_list)"
   ]
  },
  {
   "cell_type": "code",
   "execution_count": null,
   "id": "b1ff2ab0",
   "metadata": {},
   "outputs": [],
   "source": [
    "img_np.shape"
   ]
  },
  {
   "cell_type": "code",
   "execution_count": 5,
   "id": "51447430",
   "metadata": {},
   "outputs": [],
   "source": [
    "\n",
    "# ras_pos is a 4-d numpy array, with the last dim holding RGB\n",
    "ras_pos = img_np\n",
    "\n",
    "shape_3d = ras_pos.shape[0:3]\n",
    "rgb_dtype = np.dtype([('R', 'u1'), ('G', 'u1'), ('B', 'u1')])\n",
    "ras_pos = ras_pos.copy().view(dtype=rgb_dtype).reshape(shape_3d) # copy used to force fresh internal structure\n",
    "ni_img = nib.Nifti1Image(ras_pos, np.eye(4))\n",
    "nib.save(ni_img, 'test_images/stack/rgbStack_final_new1.nii') #path to our directory where we want to save the stack"
   ]
  }
 ],
 "metadata": {
  "kernelspec": {
   "display_name": "Python 3",
   "language": "python",
   "name": "python3"
  },
  "language_info": {
   "codemirror_mode": {
    "name": "ipython",
    "version": 3
   },
   "file_extension": ".py",
   "mimetype": "text/x-python",
   "name": "python",
   "nbconvert_exporter": "python",
   "pygments_lexer": "ipython3",
   "version": "3.6.13"
  }
 },
 "nbformat": 4,
 "nbformat_minor": 5
}

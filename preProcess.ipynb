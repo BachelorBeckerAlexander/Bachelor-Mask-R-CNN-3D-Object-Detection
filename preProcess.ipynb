{
 "cells": [
  {
   "cell_type": "code",
   "execution_count": 1,
   "id": "397c43ad",
   "metadata": {},
   "outputs": [],
   "source": [
    "import cv2, os "
   ]
  },
  {
   "cell_type": "code",
   "execution_count": 2,
   "id": "3acaba6e",
   "metadata": {},
   "outputs": [],
   "source": [
    "# convert .tif Stack -> .jpg Stack"
   ]
  },
  {
   "cell_type": "code",
   "execution_count": 3,
   "id": "1667efcf",
   "metadata": {},
   "outputs": [],
   "source": [
    "ret, img = cv2.imreadmulti(\"test_images/stack/volume.tif\",[], cv2.IMREAD_UNCHANGED )"
   ]
  },
  {
   "cell_type": "code",
   "execution_count": 4,
   "id": "4987d9a2",
   "metadata": {},
   "outputs": [],
   "source": [
    "for i in range(len(img)):\n",
    "    cv2.imwrite(\"test_images/indv_jpg/%d.jpg\"%i, img[i])"
   ]
  }
 ],
 "metadata": {
  "kernelspec": {
   "display_name": "Python 3",
   "language": "python",
   "name": "python3"
  },
  "language_info": {
   "codemirror_mode": {
    "name": "ipython",
    "version": 3
   },
   "file_extension": ".py",
   "mimetype": "text/x-python",
   "name": "python",
   "nbconvert_exporter": "python",
   "pygments_lexer": "ipython3",
   "version": "3.6.13"
  }
 },
 "nbformat": 4,
 "nbformat_minor": 5
}
